{
 "cells": [
  {
   "cell_type": "markdown",
   "metadata": {},
   "source": [
    "# 1. Import Dependencies"
   ]
  },
  {
   "cell_type": "code",
   "execution_count": 2,
   "metadata": {},
   "outputs": [
    {
     "name": "stdout",
     "output_type": "stream",
     "text": [
      "Requirement already satisfied: opencv-python in d:\\study\\neuronetworks\\python\\venv\\lib\\site-packages (4.5.2.52)\n",
      "Requirement already satisfied: numpy>=1.19.3 in d:\\study\\neuronetworks\\python\\venv\\lib\\site-packages (from opencv-python) (1.19.5)\n"
     ]
    },
    {
     "name": "stderr",
     "output_type": "stream",
     "text": [
      "WARNING: You are using pip version 21.0.1; however, version 21.1.1 is available.\n",
      "You should consider upgrading via the 'd:\\study\\neuronetworks\\python\\venv\\scripts\\python.exe -m pip install --upgrade pip' command.\n"
     ]
    }
   ],
   "source": [
    "!pip install opencv-python"
   ]
  },
  {
   "cell_type": "code",
   "execution_count": 3,
   "metadata": {},
   "outputs": [],
   "source": [
    "# Import opencv\n",
    "import cv2 \n",
    "\n",
    "# Import uuid\n",
    "import uuid\n",
    "\n",
    "# Import Operating System\n",
    "import os\n",
    "\n",
    "# Import time\n",
    "import time"
   ]
  },
  {
   "cell_type": "markdown",
   "metadata": {},
   "source": [
    "# 2. Define Images to Collect"
   ]
  },
  {
   "cell_type": "code",
   "execution_count": 4,
   "metadata": {},
   "outputs": [],
   "source": [
    "labels = ['dandelion', 'rose']\n",
    "number_imgs = 3"
   ]
  },
  {
   "cell_type": "markdown",
   "metadata": {},
   "source": [
    "# 3. Setup Folders "
   ]
  },
  {
   "cell_type": "code",
   "execution_count": 16,
   "metadata": {},
   "outputs": [],
   "source": [
    "IMAGES_PATH = os.path.join('Tensorflow', 'workspace', 'images', 'collectedimages')"
   ]
  },
  {
   "cell_type": "code",
   "execution_count": 17,
   "metadata": {},
   "outputs": [],
   "source": [
    "if not os.path.exists(IMAGES_PATH):\n",
    "    if os.name == 'posix':\n",
    "        !mkdir -p {IMAGES_PATH}\n",
    "    if os.name == 'nt':\n",
    "         !mkdir {IMAGES_PATH}\n",
    "for label in labels:\n",
    "    path = os.path.join(IMAGES_PATH, label)\n",
    "    if not os.path.exists(path):\n",
    "        !mkdir {path}"
   ]
  },
  {
   "cell_type": "markdown",
   "metadata": {},
   "source": [
    "# 4. Capture Images"
   ]
  },
  {
   "cell_type": "code",
   "execution_count": 18,
   "metadata": {},
   "outputs": [
    {
     "name": "stdout",
     "output_type": "stream",
     "text": [
      "Collecting images for thumbsup\n",
      "Collecting image 0\n",
      "Collecting image 1\n",
      "Collecting image 2\n",
      "Collecting image 3\n",
      "Collecting image 4\n"
     ]
    }
   ],
   "source": [
    "for label in labels:\n",
    "    cap = cv2.VideoCapture(0)\n",
    "    print('Collecting images for {}'.format(label))\n",
    "    time.sleep(5)\n",
    "    for imgnum in range(number_imgs):\n",
    "        print('Collecting image {}'.format(imgnum))\n",
    "        ret, frame = cap.read()\n",
    "        imgname = os.path.join(IMAGES_PATH,label,label+'.'+'{}.jpg'.format(str(uuid.uuid1())))\n",
    "        cv2.imwrite(imgname, frame)\n",
    "        cv2.imshow('frame', frame)\n",
    "        time.sleep(2)\n",
    "\n",
    "        if cv2.waitKey(1) & 0xFF == ord('q'):\n",
    "            break\n",
    "cap.release()\n",
    "cv2.destroyAllWindows()"
   ]
  },
  {
   "cell_type": "markdown",
   "metadata": {},
   "source": [
    "# 5. Image Labelling"
   ]
  },
  {
   "cell_type": "code",
   "execution_count": 7,
   "metadata": {},
   "outputs": [
    {
     "name": "stdout",
     "output_type": "stream",
     "text": [
      "Collecting pyqt5\n",
      "  Using cached PyQt5-5.15.4-cp36.cp37.cp38.cp39-none-win_amd64.whl (6.8 MB)\n",
      "Collecting lxml\n",
      "  Downloading lxml-4.6.3-cp39-cp39-win_amd64.whl (3.5 MB)\n",
      "Collecting PyQt5-Qt5>=5.15\n",
      "  Using cached PyQt5_Qt5-5.15.2-py3-none-win_amd64.whl (50.1 MB)\n",
      "Collecting PyQt5-sip<13,>=12.8\n",
      "  Downloading PyQt5_sip-12.9.0-cp39-cp39-win_amd64.whl (63 kB)\n",
      "Installing collected packages: PyQt5-sip, PyQt5-Qt5, pyqt5, lxml\n",
      "Successfully installed PyQt5-Qt5-5.15.2 PyQt5-sip-12.9.0 lxml-4.6.3 pyqt5-5.15.4\n"
     ]
    },
    {
     "name": "stderr",
     "output_type": "stream",
     "text": [
      "WARNING: You are using pip version 21.0.1; however, version 21.1.1 is available.\n",
      "You should consider upgrading via the 'd:\\study\\neuronetworks\\python\\venv\\scripts\\python.exe -m pip install --upgrade pip' command.\n"
     ]
    }
   ],
   "source": [
    "!pip install --upgrade pyqt5 lxml"
   ]
  },
  {
   "cell_type": "code",
   "execution_count": 11,
   "metadata": {},
   "outputs": [
    {
     "name": "stdout",
     "output_type": "stream",
     "text": [
      "Package                Version\n",
      "---------------------- -------------------\n",
      "absl-py                0.12.0\n",
      "anyio                  3.0.1\n",
      "argon2-cffi            20.1.0\n",
      "astunparse             1.6.3\n",
      "async-generator        1.10\n",
      "attrs                  21.2.0\n",
      "Babel                  2.9.1\n",
      "backcall               0.2.0\n",
      "bleach                 3.3.0\n",
      "cachetools             4.2.1\n",
      "certifi                2020.12.5\n",
      "cffi                   1.14.5\n",
      "chardet                4.0.0\n",
      "colorama               0.4.4\n",
      "cycler                 0.10.0\n",
      "decorator              5.0.9\n",
      "defusedxml             0.7.1\n",
      "entrypoints            0.3\n",
      "flatbuffers            1.12\n",
      "gast                   0.4.0\n",
      "google-auth            1.28.1\n",
      "google-auth-oauthlib   0.4.4\n",
      "google-pasta           0.2.0\n",
      "grpcio                 1.34.1\n",
      "h5py                   3.1.0\n",
      "idna                   2.10\n",
      "ipykernel              5.5.5\n",
      "ipython                7.23.1\n",
      "ipython-genutils       0.2.0\n",
      "jedi                   0.18.0\n",
      "Jinja2                 3.0.0\n",
      "json5                  0.9.5\n",
      "jsonschema             3.2.0\n",
      "jupyter-client         6.1.12\n",
      "jupyter-core           4.7.1\n",
      "jupyter-server         1.7.0\n",
      "jupyterlab             3.0.15\n",
      "jupyterlab-pygments    0.1.2\n",
      "jupyterlab-server      2.5.1\n",
      "Keras                  2.4.3\n",
      "keras-nightly          2.5.0.dev2021032900\n",
      "Keras-Preprocessing    1.1.2\n",
      "kiwisolver             1.3.1\n",
      "lxml                   4.6.3\n",
      "Markdown               3.3.4\n",
      "MarkupSafe             2.0.0\n",
      "matplotlib             3.4.1\n",
      "matplotlib-inline      0.1.2\n",
      "mistune                0.8.4\n",
      "nbclassic              0.2.8\n",
      "nbclient               0.5.3\n",
      "nbconvert              6.0.7\n",
      "nbformat               5.1.3\n",
      "nest-asyncio           1.5.1\n",
      "notebook               6.3.0\n",
      "numpy                  1.19.5\n",
      "oauthlib               3.1.0\n",
      "opencv-python          4.5.2.52\n",
      "opt-einsum             3.3.0\n",
      "packaging              20.9\n",
      "pandocfilters          1.4.3\n",
      "parso                  0.8.2\n",
      "pickleshare            0.7.5\n",
      "Pillow                 8.2.0\n",
      "pip                    21.0.1\n",
      "prometheus-client      0.10.1\n",
      "prompt-toolkit         3.0.18\n",
      "protobuf               3.15.8\n",
      "pyasn1                 0.4.8\n",
      "pyasn1-modules         0.2.8\n",
      "pycparser              2.20\n",
      "Pygments               2.9.0\n",
      "pyparsing              2.4.7\n",
      "PyQt5                  5.15.4\n",
      "PyQt5-Qt5              5.15.2\n",
      "PyQt5-sip              12.9.0\n",
      "pyrsistent             0.17.3\n",
      "python-dateutil        2.8.1\n",
      "pytz                   2021.1\n",
      "pywin32                300\n",
      "pywinpty               0.5.7\n",
      "PyYAML                 5.4.1\n",
      "pyzmq                  22.0.3\n",
      "requests               2.25.1\n",
      "requests-oauthlib      1.3.0\n",
      "rsa                    4.7.2\n",
      "scipy                  1.6.2\n",
      "Send2Trash             1.5.0\n",
      "setuptools             56.0.0\n",
      "six                    1.15.0\n",
      "sniffio                1.2.0\n",
      "tensorboard            2.4.1\n",
      "tensorboard-plugin-wit 1.8.0\n",
      "tensorflow             2.5.0rc0\n",
      "termcolor              1.1.0\n",
      "terminado              0.9.5\n",
      "testpath               0.4.4\n",
      "tf-estimator-nightly   2.5.0.dev2021032501\n",
      "tornado                6.1\n",
      "traitlets              5.0.5\n",
      "typing-extensions      3.7.4.3\n",
      "urllib3                1.26.4\n",
      "wcwidth                0.2.5\n",
      "webencodings           0.5.1\n",
      "websocket-client       0.59.0\n",
      "Werkzeug               1.0.1\n",
      "wheel                  0.36.2\n",
      "wrapt                  1.12.1\n"
     ]
    },
    {
     "name": "stderr",
     "output_type": "stream",
     "text": [
      "WARNING: You are using pip version 21.0.1; however, version 21.1.1 is available.\n",
      "You should consider upgrading via the 'd:\\study\\neuronetworks\\python\\venv\\scripts\\python.exe -m pip install --upgrade pip' command.\n"
     ]
    }
   ],
   "source": [
    "!pip list"
   ]
  },
  {
   "cell_type": "code",
   "execution_count": 8,
   "metadata": {},
   "outputs": [],
   "source": [
    "LABELIMG_PATH = os.path.join('labelimg')"
   ]
  },
  {
   "cell_type": "code",
   "execution_count": 12,
   "metadata": {},
   "outputs": [
    {
     "name": "stderr",
     "output_type": "stream",
     "text": [
      "Cloning into 'labelimg'...\n"
     ]
    }
   ],
   "source": [
    "if not os.path.exists(LABELIMG_PATH):\n",
    "    !mkdir {LABELIMG_PATH}\n",
    "    !git clone https://github.com/tzutalin/labelImg {LABELIMG_PATH}"
   ]
  },
  {
   "cell_type": "code",
   "execution_count": 14,
   "metadata": {},
   "outputs": [],
   "source": [
    "if os.name == 'posix':\n",
    "    !make qt5py3\n",
    "if os.name =='nt':\n",
    "    !cd {LABELIMG_PATH} && pyrcc5 -o libs/resources.py resources.qrc"
   ]
  },
  {
   "cell_type": "code",
   "execution_count": null,
   "metadata": {},
   "outputs": [],
   "source": []
  },
  {
   "cell_type": "code",
   "execution_count": 18,
   "metadata": {},
   "outputs": [
    {
     "name": "stdout",
     "output_type": "stream",
     "text": [
      "Image:D:\\Study\\NeuroNetworks\\Python\\Tensorflow\\workspace\\images\\collectedimages\\dandelion\\dandelion1.jpg -> Annotation:D:/Study/NeuroNetworks/Python/Tensorflow/workspace/images/collectedimages/dandelion/dandelion1.xml\n",
      "Image:D:\\Study\\NeuroNetworks\\Python\\Tensorflow\\workspace\\images\\collectedimages\\dandelion\\dandelion2.jpg -> Annotation:D:/Study/NeuroNetworks/Python/Tensorflow/workspace/images/collectedimages/dandelion/dandelion2.xml\n",
      "Image:D:\\Study\\NeuroNetworks\\Python\\Tensorflow\\workspace\\images\\collectedimages\\dandelion\\dandelion3.jpg -> Annotation:D:/Study/NeuroNetworks/Python/Tensorflow/workspace/images/collectedimages/dandelion/dandelion3.xml\n",
      "Image:D:\\Study\\NeuroNetworks\\Python\\Tensorflow\\workspace\\images\\collectedimages\\rose\\rose1.jpg -> Annotation:D:/Study/NeuroNetworks/Python/Tensorflow/workspace/images/collectedimages/rose/rose1.xml\n",
      "Image:D:\\Study\\NeuroNetworks\\Python\\Tensorflow\\workspace\\images\\collectedimages\\rose\\rose2.jpg -> Annotation:D:/Study/NeuroNetworks/Python/Tensorflow/workspace/images/collectedimages/rose/rose2.xml\n",
      "Image:D:\\Study\\NeuroNetworks\\Python\\Tensorflow\\workspace\\images\\collectedimages\\rose\\rose3.jpg -> Annotation:D:/Study/NeuroNetworks/Python/Tensorflow/workspace/images/collectedimages/rose/rose3.xml\n"
     ]
    },
    {
     "name": "stderr",
     "output_type": "stream",
     "text": [
      "D:\\Study\\NeuroNetworks\\Python\\labelimg\\labelImg.py:965: DeprecationWarning: an integer is required (got type float).  Implicit conversion to integers using __int__ is deprecated, and may be removed in a future version of Python.\n",
      "  bar.setValue(bar.value() + bar.singleStep() * units)\n"
     ]
    },
    {
     "name": "stdout",
     "output_type": "stream",
     "text": [
      "Image:D:\\Study\\NeuroNetworks\\Python\\Tensorflow\\workspace\\images\\collectedimages\\rose\\rose4.jpg -> Annotation:D:/Study/NeuroNetworks/Python/Tensorflow/workspace/images/collectedimages/rose/rose4.xml\n",
      "Image:D:\\Study\\NeuroNetworks\\Python\\Tensorflow\\workspace\\images\\collectedimages\\rose\\rose5.jpg -> Annotation:D:/Study/NeuroNetworks/Python/Tensorflow/workspace/images/collectedimages/rose/rose5.xml\n",
      "Image:D:\\Study\\NeuroNetworks\\Python\\Tensorflow\\workspace\\images\\collectedimages\\dandelion\\dandelion4.jpg -> Annotation:D:/Study/NeuroNetworks/Python/Tensorflow/workspace/images/collectedimages/dandelion/dandelion4.xml\n",
      "Image:D:\\Study\\NeuroNetworks\\Python\\Tensorflow\\workspace\\images\\collectedimages\\dandelion\\dandelion5.jpg -> Annotation:D:/Study/NeuroNetworks/Python/Tensorflow/workspace/images/collectedimages/dandelion/dandelion5.xml\n"
     ]
    }
   ],
   "source": [
    "!cd {LABELIMG_PATH} && python labelImg.py"
   ]
  },
  {
   "cell_type": "markdown",
   "metadata": {},
   "source": [
    "# 6. Move them into a Training and Testing Partition"
   ]
  },
  {
   "cell_type": "markdown",
   "metadata": {},
   "source": [
    "# OPTIONAL - 7. Compress them for Colab Training"
   ]
  },
  {
   "cell_type": "code",
   "execution_count": 20,
   "metadata": {},
   "outputs": [],
   "source": [
    "TRAIN_PATH = os.path.join('Tensorflow', 'workspace', 'images', 'train')\n",
    "TEST_PATH = os.path.join('Tensorflow', 'workspace', 'images', 'test')\n",
    "ARCHIVE_PATH = os.path.join('Tensorflow', 'workspace', 'images', 'archive.tar.gz')"
   ]
  },
  {
   "cell_type": "code",
   "execution_count": 21,
   "metadata": {},
   "outputs": [],
   "source": [
    "!tar -czf {ARCHIVE_PATH} {TRAIN_PATH} {TEST_PATH}"
   ]
  },
  {
   "cell_type": "code",
   "execution_count": null,
   "metadata": {},
   "outputs": [],
   "source": []
  }
 ],
 "metadata": {
  "kernelspec": {
   "display_name": "venv",
   "language": "python",
   "name": "venv"
  },
  "language_info": {
   "codemirror_mode": {
    "name": "ipython",
    "version": 3
   },
   "file_extension": ".py",
   "mimetype": "text/x-python",
   "name": "python",
   "nbconvert_exporter": "python",
   "pygments_lexer": "ipython3",
   "version": "3.9.2"
  }
 },
 "nbformat": 4,
 "nbformat_minor": 4
}
